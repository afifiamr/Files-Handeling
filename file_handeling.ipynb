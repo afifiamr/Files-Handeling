{
  "nbformat": 4,
  "nbformat_minor": 0,
  "metadata": {
    "colab": {
      "name": "file handeling.ipynb",
      "provenance": []
    },
    "kernelspec": {
      "name": "python3",
      "display_name": "Python 3"
    },
    "language_info": {
      "name": "python"
    }
  },
  "cells": [
    {
      "cell_type": "code",
      "execution_count": 28,
      "metadata": {
        "colab": {
          "base_uri": "https://localhost:8080/",
          "height": 36
        },
        "id": "UwcLjdLh5p-g",
        "outputId": "191f5bf1-8ce4-44ba-d811-0b372143bfcf"
      },
      "outputs": [
        {
          "output_type": "execute_result",
          "data": {
            "text/plain": [
              "'pdmlpfm\\n'"
            ],
            "application/vnd.google.colaboratory.intrinsic+json": {
              "type": "string"
            }
          },
          "metadata": {},
          "execution_count": 28
        }
      ],
      "source": [
        "#q1\n",
        "f = open(\"Amr.txt\",\"r+\")\n",
        "f.read()\n"
      ]
    },
    {
      "cell_type": "code",
      "source": [
        "#q2\n",
        "f = open(\"Amr.txt\",\"r+\")\n",
        "print(f.readlines(1))"
      ],
      "metadata": {
        "colab": {
          "base_uri": "https://localhost:8080/"
        },
        "id": "r5YjVp8q9jf9",
        "outputId": "b81df0f9-53f2-4e70-fecf-46cc7006dce3"
      },
      "execution_count": 33,
      "outputs": [
        {
          "output_type": "stream",
          "name": "stdout",
          "text": [
            "['pdmlpfm\\n']\n"
          ]
        }
      ]
    },
    {
      "cell_type": "code",
      "source": [
        "#q3\n",
        "\n",
        "f = open(\"Amr.txt\",\"r+\")\n",
        "for line in f:\n",
        "   print (line, end ='')\n",
        "print(f.readlines())"
      ],
      "metadata": {
        "colab": {
          "base_uri": "https://localhost:8080/"
        },
        "id": "0baKN_1g-D9z",
        "outputId": "69373955-caae-41cc-c057-f0c7cd3eccdc"
      },
      "execution_count": 36,
      "outputs": [
        {
          "output_type": "stream",
          "name": "stdout",
          "text": [
            "pdmlpfm\n",
            "[]\n"
          ]
        }
      ]
    },
    {
      "cell_type": "code",
      "source": [
        "#q4\n",
        "f = open('Amr.txt','r+')\n",
        "lines=f.read()\n",
        "words=lines.split()\n",
        "print(len(words))"
      ],
      "metadata": {
        "colab": {
          "base_uri": "https://localhost:8080/"
        },
        "id": "Zm5ty95nBw8W",
        "outputId": "57f69167-d50a-48a1-f9f1-567c03b05afe"
      },
      "execution_count": 37,
      "outputs": [
        {
          "output_type": "stream",
          "name": "stdout",
          "text": [
            "1\n"
          ]
        }
      ]
    }
  ]
}